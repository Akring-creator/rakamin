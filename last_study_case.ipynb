{
  "nbformat": 4,
  "nbformat_minor": 0,
  "metadata": {
    "colab": {
      "provenance": [],
      "collapsed_sections": []
    },
    "kernelspec": {
      "name": "python3",
      "display_name": "Python 3"
    },
    "language_info": {
      "name": "python"
    }
  },
  "cells": [
    {
      "cell_type": "code",
      "execution_count": 1,
      "metadata": {
        "id": "rjJdJN_3o4w5"
      },
      "outputs": [],
      "source": [
        "import pandas as pd\n",
        "import numpy as np\n",
        "import math\n",
        "import seaborn as sns\n",
        "import matplotlib.pyplot as plt\n",
        "import tensorflow as tf\n",
        "from sklearn.feature_selection import SelectKBest\n",
        "from sklearn.feature_selection import chi2\n",
        "from sklearn import preprocessing, svm\n",
        "from sklearn.model_selection import train_test_split\n"
      ]
    },
    {
      "cell_type": "code",
      "source": [
        "# Mengakses data menggunakan pandas\n",
        "filepath = '/content/drive/MyDrive/Rakamin/application_train.csv'\n",
        "df1 = pd.read_csv(filepath)\n",
        "filepath = '/content/drive/MyDrive/Rakamin/application_test.csv'\n",
        "df2 = pd.read_csv(filepath)"
      ],
      "metadata": {
        "id": "W4c8qr19pB06"
      },
      "execution_count": 2,
      "outputs": []
    },
    {
      "cell_type": "code",
      "source": [
        "df1.shape"
      ],
      "metadata": {
        "colab": {
          "base_uri": "https://localhost:8080/"
        },
        "id": "MWVDB8Us5Qd8",
        "outputId": "22fb6c78-adc2-440f-8806-b475ad19e209"
      },
      "execution_count": null,
      "outputs": [
        {
          "output_type": "execute_result",
          "data": {
            "text/plain": [
              "(307511, 122)"
            ]
          },
          "metadata": {},
          "execution_count": 3
        }
      ]
    },
    {
      "cell_type": "code",
      "source": [
        "# Mengubah Categorical Data menjadi Numeric Data\n",
        "cat_columns = df1.select_dtypes(['object']).columns\n",
        "df1[cat_columns] = df1[cat_columns].apply(lambda x: pd.factorize(x)[0])"
      ],
      "metadata": {
        "id": "LbcV27rdqDzN"
      },
      "execution_count": 3,
      "outputs": []
    },
    {
      "cell_type": "code",
      "source": [
        "# Test apakah ngedrop NA lebih baik daripada mengisi dengan Zero\n",
        "# df.dropna(inplace = True)\n",
        "df1.fillna(0, inplace = True)"
      ],
      "metadata": {
        "id": "khL8nyl_qHID"
      },
      "execution_count": 4,
      "outputs": []
    },
    {
      "cell_type": "code",
      "source": [
        "# Mengecek apakah ada nilai negatif di column\n",
        "listcheck = []\n",
        "for i in df1.columns:\n",
        "    if df1[i].min() < 0:\n",
        "        listcheck.append(i)\n",
        "listcheck"
      ],
      "metadata": {
        "colab": {
          "base_uri": "https://localhost:8080/"
        },
        "id": "2-Q_wReWpsxi",
        "outputId": "5a972a5e-8d25-41ab-bcbb-012f6812a888"
      },
      "execution_count": null,
      "outputs": [
        {
          "output_type": "execute_result",
          "data": {
            "text/plain": [
              "['NAME_TYPE_SUITE',\n",
              " 'DAYS_BIRTH',\n",
              " 'DAYS_EMPLOYED',\n",
              " 'DAYS_REGISTRATION',\n",
              " 'DAYS_ID_PUBLISH',\n",
              " 'OCCUPATION_TYPE',\n",
              " 'FONDKAPREMONT_MODE',\n",
              " 'HOUSETYPE_MODE',\n",
              " 'WALLSMATERIAL_MODE',\n",
              " 'EMERGENCYSTATE_MODE',\n",
              " 'DAYS_LAST_PHONE_CHANGE']"
            ]
          },
          "metadata": {},
          "execution_count": 60
        }
      ]
    },
    {
      "cell_type": "code",
      "source": [
        "# Mengeluarkan Kolom yang memiliki nilai negatif dan colomn primary key\n",
        "X_train = df1.drop(['SK_ID_CURR', \n",
        "             'NAME_TYPE_SUITE',\n",
        "             'DAYS_BIRTH',\n",
        "             'DAYS_EMPLOYED',\n",
        "             'DAYS_REGISTRATION',\n",
        "             'DAYS_ID_PUBLISH',\n",
        "             'OCCUPATION_TYPE',\n",
        "             'FONDKAPREMONT_MODE',\n",
        "             'HOUSETYPE_MODE',\n",
        "             'WALLSMATERIAL_MODE',\n",
        "             'DAYS_LAST_PHONE_CHANGE',\n",
        "             'EMERGENCYSTATE_MODE',\n",
        "             'DAYS_LAST_PHONE_CHANGE',\n",
        "             'TARGET'], axis = 1)\n",
        "y_train = df1['TARGET']"
      ],
      "metadata": {
        "id": "fotFb6gWq5rc"
      },
      "execution_count": null,
      "outputs": []
    },
    {
      "cell_type": "code",
      "source": [
        "# Menggunakan feaure selection untuk memilih fitur terbaik yang akan digunakan untuk training\n",
        "bestFeatures = SelectKBest(score_func = chi2, k=len(X_train.columns))\n",
        "fit = bestFeatures.fit(X_train, y_train)\n",
        "dfscores = pd.DataFrame([int(x) for x in fit.scores_ if not (math.isnan(x))])\n",
        "dfcolumns = pd.DataFrame(X_train.columns)\n",
        "featurescores = pd.concat([dfcolumns, dfscores], axis = 1)\n",
        "featurescores.columns = ['Attribue', 'Score']\n",
        "featurescores.sort_values('Score', ascending = False).head(20)"
      ],
      "metadata": {
        "colab": {
          "base_uri": "https://localhost:8080/",
          "height": 676
        },
        "id": "c4pgDXkHq-zA",
        "outputId": "3daaaa3c-140e-40ac-83b4-c3fbd1366aa0"
      },
      "execution_count": null,
      "outputs": [
        {
          "output_type": "execute_result",
          "data": {
            "text/plain": [
              "                        Attribue      Score\n",
              "8                AMT_GOODS_PRICE  122270879\n",
              "6                     AMT_CREDIT   76699867\n",
              "5               AMT_INCOME_TOTAL    1624101\n",
              "7                    AMT_ANNUITY     390110\n",
              "9               NAME_INCOME_TYPE       1360\n",
              "35                  EXT_SOURCE_3        772\n",
              "30        REG_CITY_NOT_WORK_CITY        615\n",
              "34                  EXT_SOURCE_2        560\n",
              "29        REG_CITY_NOT_LIVE_CITY        558\n",
              "33                  EXT_SOURCE_1        478\n",
              "80      DEF_30_CNT_SOCIAL_CIRCLE        449\n",
              "82      DEF_60_CNT_SOCIAL_CIRCLE        397\n",
              "10           NAME_EDUCATION_TYPE        347\n",
              "1                    CODE_GENDER        314\n",
              "31       LIVE_CITY_NOT_WORK_CITY        266\n",
              "0             NAME_CONTRACT_TYPE        265\n",
              "12             NAME_HOUSING_TYPE        260\n",
              "66  YEARS_BEGINEXPLUATATION_MEDI        248\n",
              "52  YEARS_BEGINEXPLUATATION_MODE        247\n",
              "38   YEARS_BEGINEXPLUATATION_AVG        247"
            ],
            "text/html": [
              "\n",
              "  <div id=\"df-7ff716dc-2739-4397-bbb0-a23127063e9f\">\n",
              "    <div class=\"colab-df-container\">\n",
              "      <div>\n",
              "<style scoped>\n",
              "    .dataframe tbody tr th:only-of-type {\n",
              "        vertical-align: middle;\n",
              "    }\n",
              "\n",
              "    .dataframe tbody tr th {\n",
              "        vertical-align: top;\n",
              "    }\n",
              "\n",
              "    .dataframe thead th {\n",
              "        text-align: right;\n",
              "    }\n",
              "</style>\n",
              "<table border=\"1\" class=\"dataframe\">\n",
              "  <thead>\n",
              "    <tr style=\"text-align: right;\">\n",
              "      <th></th>\n",
              "      <th>Attribue</th>\n",
              "      <th>Score</th>\n",
              "    </tr>\n",
              "  </thead>\n",
              "  <tbody>\n",
              "    <tr>\n",
              "      <th>8</th>\n",
              "      <td>AMT_GOODS_PRICE</td>\n",
              "      <td>122270879</td>\n",
              "    </tr>\n",
              "    <tr>\n",
              "      <th>6</th>\n",
              "      <td>AMT_CREDIT</td>\n",
              "      <td>76699867</td>\n",
              "    </tr>\n",
              "    <tr>\n",
              "      <th>5</th>\n",
              "      <td>AMT_INCOME_TOTAL</td>\n",
              "      <td>1624101</td>\n",
              "    </tr>\n",
              "    <tr>\n",
              "      <th>7</th>\n",
              "      <td>AMT_ANNUITY</td>\n",
              "      <td>390110</td>\n",
              "    </tr>\n",
              "    <tr>\n",
              "      <th>9</th>\n",
              "      <td>NAME_INCOME_TYPE</td>\n",
              "      <td>1360</td>\n",
              "    </tr>\n",
              "    <tr>\n",
              "      <th>35</th>\n",
              "      <td>EXT_SOURCE_3</td>\n",
              "      <td>772</td>\n",
              "    </tr>\n",
              "    <tr>\n",
              "      <th>30</th>\n",
              "      <td>REG_CITY_NOT_WORK_CITY</td>\n",
              "      <td>615</td>\n",
              "    </tr>\n",
              "    <tr>\n",
              "      <th>34</th>\n",
              "      <td>EXT_SOURCE_2</td>\n",
              "      <td>560</td>\n",
              "    </tr>\n",
              "    <tr>\n",
              "      <th>29</th>\n",
              "      <td>REG_CITY_NOT_LIVE_CITY</td>\n",
              "      <td>558</td>\n",
              "    </tr>\n",
              "    <tr>\n",
              "      <th>33</th>\n",
              "      <td>EXT_SOURCE_1</td>\n",
              "      <td>478</td>\n",
              "    </tr>\n",
              "    <tr>\n",
              "      <th>80</th>\n",
              "      <td>DEF_30_CNT_SOCIAL_CIRCLE</td>\n",
              "      <td>449</td>\n",
              "    </tr>\n",
              "    <tr>\n",
              "      <th>82</th>\n",
              "      <td>DEF_60_CNT_SOCIAL_CIRCLE</td>\n",
              "      <td>397</td>\n",
              "    </tr>\n",
              "    <tr>\n",
              "      <th>10</th>\n",
              "      <td>NAME_EDUCATION_TYPE</td>\n",
              "      <td>347</td>\n",
              "    </tr>\n",
              "    <tr>\n",
              "      <th>1</th>\n",
              "      <td>CODE_GENDER</td>\n",
              "      <td>314</td>\n",
              "    </tr>\n",
              "    <tr>\n",
              "      <th>31</th>\n",
              "      <td>LIVE_CITY_NOT_WORK_CITY</td>\n",
              "      <td>266</td>\n",
              "    </tr>\n",
              "    <tr>\n",
              "      <th>0</th>\n",
              "      <td>NAME_CONTRACT_TYPE</td>\n",
              "      <td>265</td>\n",
              "    </tr>\n",
              "    <tr>\n",
              "      <th>12</th>\n",
              "      <td>NAME_HOUSING_TYPE</td>\n",
              "      <td>260</td>\n",
              "    </tr>\n",
              "    <tr>\n",
              "      <th>66</th>\n",
              "      <td>YEARS_BEGINEXPLUATATION_MEDI</td>\n",
              "      <td>248</td>\n",
              "    </tr>\n",
              "    <tr>\n",
              "      <th>52</th>\n",
              "      <td>YEARS_BEGINEXPLUATATION_MODE</td>\n",
              "      <td>247</td>\n",
              "    </tr>\n",
              "    <tr>\n",
              "      <th>38</th>\n",
              "      <td>YEARS_BEGINEXPLUATATION_AVG</td>\n",
              "      <td>247</td>\n",
              "    </tr>\n",
              "  </tbody>\n",
              "</table>\n",
              "</div>\n",
              "      <button class=\"colab-df-convert\" onclick=\"convertToInteractive('df-7ff716dc-2739-4397-bbb0-a23127063e9f')\"\n",
              "              title=\"Convert this dataframe to an interactive table.\"\n",
              "              style=\"display:none;\">\n",
              "        \n",
              "  <svg xmlns=\"http://www.w3.org/2000/svg\" height=\"24px\"viewBox=\"0 0 24 24\"\n",
              "       width=\"24px\">\n",
              "    <path d=\"M0 0h24v24H0V0z\" fill=\"none\"/>\n",
              "    <path d=\"M18.56 5.44l.94 2.06.94-2.06 2.06-.94-2.06-.94-.94-2.06-.94 2.06-2.06.94zm-11 1L8.5 8.5l.94-2.06 2.06-.94-2.06-.94L8.5 2.5l-.94 2.06-2.06.94zm10 10l.94 2.06.94-2.06 2.06-.94-2.06-.94-.94-2.06-.94 2.06-2.06.94z\"/><path d=\"M17.41 7.96l-1.37-1.37c-.4-.4-.92-.59-1.43-.59-.52 0-1.04.2-1.43.59L10.3 9.45l-7.72 7.72c-.78.78-.78 2.05 0 2.83L4 21.41c.39.39.9.59 1.41.59.51 0 1.02-.2 1.41-.59l7.78-7.78 2.81-2.81c.8-.78.8-2.07 0-2.86zM5.41 20L4 18.59l7.72-7.72 1.47 1.35L5.41 20z\"/>\n",
              "  </svg>\n",
              "      </button>\n",
              "      \n",
              "  <style>\n",
              "    .colab-df-container {\n",
              "      display:flex;\n",
              "      flex-wrap:wrap;\n",
              "      gap: 12px;\n",
              "    }\n",
              "\n",
              "    .colab-df-convert {\n",
              "      background-color: #E8F0FE;\n",
              "      border: none;\n",
              "      border-radius: 50%;\n",
              "      cursor: pointer;\n",
              "      display: none;\n",
              "      fill: #1967D2;\n",
              "      height: 32px;\n",
              "      padding: 0 0 0 0;\n",
              "      width: 32px;\n",
              "    }\n",
              "\n",
              "    .colab-df-convert:hover {\n",
              "      background-color: #E2EBFA;\n",
              "      box-shadow: 0px 1px 2px rgba(60, 64, 67, 0.3), 0px 1px 3px 1px rgba(60, 64, 67, 0.15);\n",
              "      fill: #174EA6;\n",
              "    }\n",
              "\n",
              "    [theme=dark] .colab-df-convert {\n",
              "      background-color: #3B4455;\n",
              "      fill: #D2E3FC;\n",
              "    }\n",
              "\n",
              "    [theme=dark] .colab-df-convert:hover {\n",
              "      background-color: #434B5C;\n",
              "      box-shadow: 0px 1px 3px 1px rgba(0, 0, 0, 0.15);\n",
              "      filter: drop-shadow(0px 1px 2px rgba(0, 0, 0, 0.3));\n",
              "      fill: #FFFFFF;\n",
              "    }\n",
              "  </style>\n",
              "\n",
              "      <script>\n",
              "        const buttonEl =\n",
              "          document.querySelector('#df-7ff716dc-2739-4397-bbb0-a23127063e9f button.colab-df-convert');\n",
              "        buttonEl.style.display =\n",
              "          google.colab.kernel.accessAllowed ? 'block' : 'none';\n",
              "\n",
              "        async function convertToInteractive(key) {\n",
              "          const element = document.querySelector('#df-7ff716dc-2739-4397-bbb0-a23127063e9f');\n",
              "          const dataTable =\n",
              "            await google.colab.kernel.invokeFunction('convertToInteractive',\n",
              "                                                     [key], {});\n",
              "          if (!dataTable) return;\n",
              "\n",
              "          const docLinkHtml = 'Like what you see? Visit the ' +\n",
              "            '<a target=\"_blank\" href=https://colab.research.google.com/notebooks/data_table.ipynb>data table notebook</a>'\n",
              "            + ' to learn more about interactive tables.';\n",
              "          element.innerHTML = '';\n",
              "          dataTable['output_type'] = 'display_data';\n",
              "          await google.colab.output.renderOutput(dataTable, element);\n",
              "          const docLink = document.createElement('div');\n",
              "          docLink.innerHTML = docLinkHtml;\n",
              "          element.appendChild(docLink);\n",
              "        }\n",
              "      </script>\n",
              "    </div>\n",
              "  </div>\n",
              "  "
            ]
          },
          "metadata": {},
          "execution_count": 9
        }
      ]
    },
    {
      "cell_type": "code",
      "source": [
        "# Melakukan Preprocessing padata Test Dataset\n",
        "cat_columns2 = df2.select_dtypes(['object']).columns\n",
        "df2[cat_columns2] = df2[cat_columns2].apply(lambda x: pd.factorize(x)[0])\n",
        "df2.fillna(0, inplace = True)\n",
        "\n",
        "test_dataset = df2.drop(['SK_ID_CURR', \n",
        "             'NAME_TYPE_SUITE',\n",
        "             'DAYS_BIRTH',\n",
        "             'DAYS_EMPLOYED',\n",
        "             'DAYS_REGISTRATION',\n",
        "             'DAYS_ID_PUBLISH',\n",
        "             'OCCUPATION_TYPE',\n",
        "             'FONDKAPREMONT_MODE',\n",
        "             'HOUSETYPE_MODE',\n",
        "             'WALLSMATERIAL_MODE',\n",
        "             'DAYS_LAST_PHONE_CHANGE',\n",
        "             'EMERGENCYSTATE_MODE',\n",
        "             'DAYS_LAST_PHONE_CHANGE'], axis = 1)"
      ],
      "metadata": {
        "id": "-TQWzi2I-JVe"
      },
      "execution_count": null,
      "outputs": []
    },
    {
      "cell_type": "code",
      "source": [
        "# Menyiapkan train data untuk melatih di model.\n",
        "train_data = df1.filter(['AMT_GOODS_PRICE', 'AMT_CREDIT', 'AMT_INCOME_TOTAL', 'AMT_ANNUITY', 'TARGET'], axis = 1)\n",
        "train_label = train_data['TARGET']\n",
        "train_var = train_data.drop(['TARGET'], axis = 1)"
      ],
      "metadata": {
        "id": "ed2GuZoZhrYU"
      },
      "execution_count": 5,
      "outputs": []
    },
    {
      "cell_type": "code",
      "source": [],
      "metadata": {
        "id": "q-5BeNh-nNUN"
      },
      "execution_count": null,
      "outputs": []
    },
    {
      "cell_type": "code",
      "source": [
        "X_train, X_valid, y_train, y_valid = train_test_split(train_var, train_label, test_size = 0.30)"
      ],
      "metadata": {
        "id": "4yvIC6_T-Wzf"
      },
      "execution_count": 6,
      "outputs": []
    },
    {
      "cell_type": "markdown",
      "source": [
        "Random Classifier"
      ],
      "metadata": {
        "id": "GYdqgSiKwE3B"
      }
    },
    {
      "cell_type": "code",
      "source": [
        "from sklearn.ensemble import RandomForestClassifier\n",
        "\n",
        "\n",
        "clf=RandomForestClassifier(n_estimators=100)\n",
        "clf.fit(X_train,y_train)\n",
        "\n",
        "y_pred=clf.predict(X_valid)"
      ],
      "metadata": {
        "id": "rYJIRI1J9rIS"
      },
      "execution_count": null,
      "outputs": []
    },
    {
      "cell_type": "code",
      "source": [
        "from sklearn import metrics\n",
        "print(\"Accuracy:\",metrics.accuracy_score(y_valid, y_pred))"
      ],
      "metadata": {
        "colab": {
          "base_uri": "https://localhost:8080/"
        },
        "id": "eu75B3QqwTjo",
        "outputId": "04af9713-4c7d-4cf1-9cf7-71b62bfee12a"
      },
      "execution_count": null,
      "outputs": [
        {
          "output_type": "stream",
          "name": "stdout",
          "text": [
            "Accuracy: 0.9034296615864895\n"
          ]
        }
      ]
    },
    {
      "cell_type": "markdown",
      "source": [
        "Logistic Regression"
      ],
      "metadata": {
        "id": "8bYFFCy2xbLv"
      }
    },
    {
      "cell_type": "code",
      "source": [
        "from sklearn.linear_model import LogisticRegression\n",
        "logisticRegr = LogisticRegression()\n",
        "logisticRegr.fit(X_train, y_train)"
      ],
      "metadata": {
        "colab": {
          "base_uri": "https://localhost:8080/"
        },
        "id": "Der6beJ_xd1U",
        "outputId": "9e6c9775-30e9-4e59-8056-1d6b8209bb43"
      },
      "execution_count": null,
      "outputs": [
        {
          "output_type": "execute_result",
          "data": {
            "text/plain": [
              "LogisticRegression()"
            ]
          },
          "metadata": {},
          "execution_count": 26
        }
      ]
    },
    {
      "cell_type": "code",
      "source": [
        "predictions = logisticRegr.predict(X_valid)"
      ],
      "metadata": {
        "id": "1NsldCvKxszU"
      },
      "execution_count": null,
      "outputs": []
    },
    {
      "cell_type": "code",
      "source": [
        "score = logisticRegr.score(X_valid, y_valid)\n",
        "print(score)"
      ],
      "metadata": {
        "colab": {
          "base_uri": "https://localhost:8080/"
        },
        "id": "Ps8CZq3Bxzx4",
        "outputId": "7ddbb429-d2d1-48c6-a945-b5dc52fad7e6"
      },
      "execution_count": null,
      "outputs": [
        {
          "output_type": "stream",
          "name": "stdout",
          "text": [
            "0.9176946257072864\n"
          ]
        }
      ]
    },
    {
      "cell_type": "markdown",
      "source": [
        "Neural Network"
      ],
      "metadata": {
        "id": "rPfwXYselq0-"
      }
    },
    {
      "cell_type": "code",
      "source": [
        "tf.convert_to_tensor(X_train)"
      ],
      "metadata": {
        "colab": {
          "base_uri": "https://localhost:8080/"
        },
        "id": "De6qk4TRlqL5",
        "outputId": "7757a31f-7d15-4a55-bbd1-f626c3aa08d8"
      },
      "execution_count": 7,
      "outputs": [
        {
          "output_type": "execute_result",
          "data": {
            "text/plain": [
              "<tf.Tensor: shape=(215257, 4), dtype=float64, numpy=\n",
              "array([[ 922500. , 1178217. ,  144000. ,   34578. ],\n",
              "       [  85500. ,  103558.5,  180000. ,    6462. ],\n",
              "       [ 481500. ,  519633. ,  292500. ,   41184. ],\n",
              "       ...,\n",
              "       [ 238500. ,  295168.5,  135000. ,   16011. ],\n",
              "       [ 225000. ,  239850. ,  103500. ,   23719.5],\n",
              "       [ 202500. ,  202500. ,   67500. ,   10125. ]])>"
            ]
          },
          "metadata": {},
          "execution_count": 7
        }
      ]
    },
    {
      "cell_type": "code",
      "source": [
        "normalizer = tf.keras.layers.Normalization(axis=-1)\n",
        "normalizer.adapt(X_train)"
      ],
      "metadata": {
        "id": "Zlw5Nhaxl3mv"
      },
      "execution_count": 8,
      "outputs": []
    },
    {
      "cell_type": "code",
      "source": [
        "tf.convert_to_tensor(X_valid)"
      ],
      "metadata": {
        "colab": {
          "base_uri": "https://localhost:8080/"
        },
        "id": "X3awSbMCmBWM",
        "outputId": "05a8a343-a63e-404c-b255-e3e2e2664932"
      },
      "execution_count": 19,
      "outputs": [
        {
          "output_type": "execute_result",
          "data": {
            "text/plain": [
              "<tf.Tensor: shape=(92254, 4), dtype=float64, numpy=\n",
              "array([[ 450000. ,  521280. ,  180000. ,   19984.5],\n",
              "       [1354500. , 1569051. ,  315000. ,   49396.5],\n",
              "       [ 913500. , 1046142. ,  315000. ,   30717. ],\n",
              "       ...,\n",
              "       [ 576000. ,  667237.5,  202500. ,   37386. ],\n",
              "       [ 450000. ,  450000. ,  225000. ,   53536.5],\n",
              "       [ 589500. ,  822942. ,  202500. ,   26676. ]])>"
            ]
          },
          "metadata": {},
          "execution_count": 19
        }
      ]
    },
    {
      "cell_type": "code",
      "source": [
        "def get_basic_model():\n",
        "  model = tf.keras.Sequential([\n",
        "    normalizer,\n",
        "    tf.keras.layers.Dense(10, activation='relu'),\n",
        "    tf.keras.layers.Dense(10, activation='relu'),\n",
        "    tf.keras.layers.Dense(1)\n",
        "  ])\n",
        "\n",
        "  model.compile(optimizer='adam',\n",
        "                loss=tf.keras.losses.BinaryCrossentropy(from_logits=True),\n",
        "                metrics=['accuracy'])\n",
        "  return model"
      ],
      "metadata": {
        "id": "J6314lT0mHeZ"
      },
      "execution_count": 15,
      "outputs": []
    },
    {
      "cell_type": "code",
      "source": [
        "model = get_basic_model()\n",
        "model.fit(X_train, y_train, validation_data = (X_valid, y_valid), epochs=15, batch_size=32)"
      ],
      "metadata": {
        "colab": {
          "base_uri": "https://localhost:8080/"
        },
        "id": "xSWy0q_QmPYq",
        "outputId": "762ba920-1360-41f2-ad0a-8c477eaca82f"
      },
      "execution_count": 20,
      "outputs": [
        {
          "output_type": "stream",
          "name": "stdout",
          "text": [
            "Epoch 1/15\n",
            "6727/6727 [==============================] - 17s 3ms/step - loss: 0.2850 - accuracy: 0.9189 - val_loss: 0.2773 - val_accuracy: 0.9200\n",
            "Epoch 2/15\n",
            "6727/6727 [==============================] - 17s 2ms/step - loss: 0.2772 - accuracy: 0.9189 - val_loss: 0.2767 - val_accuracy: 0.9200\n",
            "Epoch 3/15\n",
            "6727/6727 [==============================] - 14s 2ms/step - loss: 0.2766 - accuracy: 0.9189 - val_loss: 0.2745 - val_accuracy: 0.9200\n",
            "Epoch 4/15\n",
            "6727/6727 [==============================] - 17s 2ms/step - loss: 0.2763 - accuracy: 0.9189 - val_loss: 0.2751 - val_accuracy: 0.9200\n",
            "Epoch 5/15\n",
            "6727/6727 [==============================] - 17s 2ms/step - loss: 0.2760 - accuracy: 0.9189 - val_loss: 0.2745 - val_accuracy: 0.9200\n",
            "Epoch 6/15\n",
            "6727/6727 [==============================] - 14s 2ms/step - loss: 0.2759 - accuracy: 0.9189 - val_loss: 0.2746 - val_accuracy: 0.9200\n",
            "Epoch 7/15\n",
            "6727/6727 [==============================] - 19s 3ms/step - loss: 0.2758 - accuracy: 0.9189 - val_loss: 0.2737 - val_accuracy: 0.9200\n",
            "Epoch 8/15\n",
            "6727/6727 [==============================] - 14s 2ms/step - loss: 0.2757 - accuracy: 0.9189 - val_loss: 0.2744 - val_accuracy: 0.9200\n",
            "Epoch 9/15\n",
            "6727/6727 [==============================] - 17s 2ms/step - loss: 0.2756 - accuracy: 0.9189 - val_loss: 0.2737 - val_accuracy: 0.9200\n",
            "Epoch 10/15\n",
            "6727/6727 [==============================] - 14s 2ms/step - loss: 0.2756 - accuracy: 0.9189 - val_loss: 0.2746 - val_accuracy: 0.9200\n",
            "Epoch 11/15\n",
            "6727/6727 [==============================] - 16s 2ms/step - loss: 0.2756 - accuracy: 0.9189 - val_loss: 0.2735 - val_accuracy: 0.9200\n",
            "Epoch 12/15\n",
            "6727/6727 [==============================] - 17s 2ms/step - loss: 0.2754 - accuracy: 0.9189 - val_loss: 0.2752 - val_accuracy: 0.9200\n",
            "Epoch 13/15\n",
            "6727/6727 [==============================] - 17s 2ms/step - loss: 0.2754 - accuracy: 0.9189 - val_loss: 0.2734 - val_accuracy: 0.9200\n",
            "Epoch 14/15\n",
            "6727/6727 [==============================] - 17s 2ms/step - loss: 0.2753 - accuracy: 0.9189 - val_loss: 0.2740 - val_accuracy: 0.9200\n",
            "Epoch 15/15\n",
            "6727/6727 [==============================] - 17s 2ms/step - loss: 0.2753 - accuracy: 0.9189 - val_loss: 0.2731 - val_accuracy: 0.9200\n"
          ]
        },
        {
          "output_type": "execute_result",
          "data": {
            "text/plain": [
              "<keras.callbacks.History at 0x7fa6ad6a3250>"
            ]
          },
          "metadata": {},
          "execution_count": 20
        }
      ]
    },
    {
      "cell_type": "code",
      "source": [],
      "metadata": {
        "id": "3LwI6G_zmeP7"
      },
      "execution_count": null,
      "outputs": []
    }
  ]
}
